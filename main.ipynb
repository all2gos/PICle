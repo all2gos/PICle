{
 "cells": [
  {
   "cell_type": "code",
   "execution_count": 57,
   "metadata": {},
   "outputs": [
    {
     "name": "stderr",
     "output_type": "stream",
     "text": [
      "c:\\Users\\stott\\anaconda3\\envs\\ds_env\\lib\\site-packages\\sklearn\\base.py:450: UserWarning: X does not have valid feature names, but AdaBoostRegressor was fitted with feature names\n",
      "  warnings.warn(\n"
     ]
    },
    {
     "data": {
      "text/plain": [
       "68.73141717910767"
      ]
     },
     "execution_count": 57,
     "metadata": {},
     "output_type": "execute_result"
    }
   ],
   "source": [
    "import pandas as pd\n",
    "import numpy as np\n",
    "from joblib import dump, load\n",
    "from sklearn.preprocessing import MinMaxScaler\n",
    "\n",
    "model = load('final_ada_m.joblib')\n",
    "\n",
    "\n",
    "data = pd.DataFrame(data=[[\n",
    "    5,  #number of nickel in cluster 0-13\n",
    "    1,  #c_atom, Ni = 1\n",
    "    0.04651,  #mass_center 0-0.05071\n",
    "    7,  #ni_ncentre\n",
    "    8,    #ni_centre\n",
    "    5,  #cu_ncentre\n",
    "    5,  #cu_centre\n",
    "    0,  #0ni\n",
    "    0,  #8ni\n",
    "    1,    #17ni\n",
    "    3,  #25ni\n",
    "    5,  #33ni\n",
    "    2,  #42ni\n",
    "    1,  #50ni\n",
    "    38,  #nini\n",
    "    14,  #cucu\n",
    "    32,  #nicu\n",
    "    0,  #if particle has a hydrogen then it is equall to 1\n",
    "    1,  #type_of_first_atom_ni\n",
    "    1   #type_of_second_atom_ni\n",
    "]])\n",
    "minmax = pd.DataFrame(data=[[0,0,0,0,0,0,0,0,0,0,0,0,0,0,0,0,0,0,0,0],[13,1,0.05071,12,13,12,13,12,12,10,10,10,12,12,84,84,52,1,1]])\n",
    "scaler = MinMaxScaler()\n",
    "scaler.fit(minmax)\n",
    "X = scaler.transform(data)\n",
    "\n",
    "model.predict(X)[0]"
   ]
  },
  {
   "cell_type": "code",
   "execution_count": 58,
   "metadata": {},
   "outputs": [
    {
     "data": {
      "text/html": [
       "<div>\n",
       "<style scoped>\n",
       "    .dataframe tbody tr th:only-of-type {\n",
       "        vertical-align: middle;\n",
       "    }\n",
       "\n",
       "    .dataframe tbody tr th {\n",
       "        vertical-align: top;\n",
       "    }\n",
       "\n",
       "    .dataframe thead th {\n",
       "        text-align: right;\n",
       "    }\n",
       "</style>\n",
       "<table border=\"1\" class=\"dataframe\">\n",
       "  <thead>\n",
       "    <tr style=\"text-align: right;\">\n",
       "      <th></th>\n",
       "      <th>index</th>\n",
       "      <th>cluster_category</th>\n",
       "      <th>notation_in_benchmark</th>\n",
       "      <th>energy</th>\n",
       "      <th>no_cluster</th>\n",
       "      <th>rotation</th>\n",
       "      <th>joining_type</th>\n",
       "      <th>Unnamed: 7</th>\n",
       "    </tr>\n",
       "  </thead>\n",
       "  <tbody>\n",
       "    <tr>\n",
       "      <th>51</th>\n",
       "      <td>52</td>\n",
       "      <td>8_CO2</td>\n",
       "      <td>4_8_NiC</td>\n",
       "      <td>-64.183930</td>\n",
       "      <td>44</td>\n",
       "      <td>3_9</td>\n",
       "      <td>MOCM</td>\n",
       "      <td>Cu_8</td>\n",
       "    </tr>\n",
       "    <tr>\n",
       "      <th>52</th>\n",
       "      <td>53</td>\n",
       "      <td>8_COOH</td>\n",
       "      <td>1_8_NiCO</td>\n",
       "      <td>-67.769094</td>\n",
       "      <td>44</td>\n",
       "      <td>1_5</td>\n",
       "      <td>MOCMHnbond</td>\n",
       "      <td>Cu_8</td>\n",
       "    </tr>\n",
       "    <tr>\n",
       "      <th>53</th>\n",
       "      <td>54</td>\n",
       "      <td>8_COOH</td>\n",
       "      <td>2_8_NiO</td>\n",
       "      <td>-67.471762</td>\n",
       "      <td>44</td>\n",
       "      <td>7_2</td>\n",
       "      <td>MOCMHnbond</td>\n",
       "      <td>Cu_8</td>\n",
       "    </tr>\n",
       "    <tr>\n",
       "      <th>54</th>\n",
       "      <td>55</td>\n",
       "      <td>8_COOH</td>\n",
       "      <td>3_8_CuC_CuO</td>\n",
       "      <td>-67.567758</td>\n",
       "      <td>44</td>\n",
       "      <td>3_9</td>\n",
       "      <td>MOCMHnbond</td>\n",
       "      <td>Cu_8</td>\n",
       "    </tr>\n",
       "    <tr>\n",
       "      <th>55</th>\n",
       "      <td>56</td>\n",
       "      <td>8_HCOO</td>\n",
       "      <td>1_8_NiOO</td>\n",
       "      <td>-68.777352</td>\n",
       "      <td>44</td>\n",
       "      <td>1_5</td>\n",
       "      <td>MOCOM</td>\n",
       "      <td>Cu_8</td>\n",
       "    </tr>\n",
       "    <tr>\n",
       "      <th>56</th>\n",
       "      <td>57</td>\n",
       "      <td>8_HCOO</td>\n",
       "      <td>2_8_CuOO</td>\n",
       "      <td>-68.398728</td>\n",
       "      <td>44</td>\n",
       "      <td>8_9</td>\n",
       "      <td>MOCOM</td>\n",
       "      <td>Cu_8</td>\n",
       "    </tr>\n",
       "  </tbody>\n",
       "</table>\n",
       "</div>"
      ],
      "text/plain": [
       "    index cluster_category notation_in_benchmark     energy  no_cluster  \\\n",
       "51     52            8_CO2               4_8_NiC -64.183930          44   \n",
       "52     53           8_COOH              1_8_NiCO -67.769094          44   \n",
       "53     54           8_COOH               2_8_NiO -67.471762          44   \n",
       "54     55           8_COOH           3_8_CuC_CuO -67.567758          44   \n",
       "55     56           8_HCOO              1_8_NiOO -68.777352          44   \n",
       "56     57           8_HCOO              2_8_CuOO -68.398728          44   \n",
       "\n",
       "   rotation joining_type Unnamed: 7  \n",
       "51      3_9         MOCM       Cu_8  \n",
       "52      1_5   MOCMHnbond       Cu_8  \n",
       "53      7_2   MOCMHnbond       Cu_8  \n",
       "54      3_9   MOCMHnbond       Cu_8  \n",
       "55      1_5        MOCOM       Cu_8  \n",
       "56      8_9        MOCOM       Cu_8  "
      ]
     },
     "execution_count": 58,
     "metadata": {},
     "output_type": "execute_result"
    }
   ],
   "source": [
    "[44,-65.8305309 ,-66.30353012, -66.1936557]\n",
    "\n",
    "bench = pd.read_csv('benchmark_ds.csv')\n",
    "bench['no_cluster'].value_counts()\n",
    "bench[bench['no_cluster']==44]\n",
    "['Cu', 'Ni', 'Ni', 'Ni', 'Ni', 'Ni', 'Cu', 'Cu', 'Cu', 'Cu', 'Cu', 'Cu', 'Cu']"
   ]
  }
 ],
 "metadata": {
  "kernelspec": {
   "display_name": "Python 3 (ipykernel)",
   "language": "python",
   "name": "python3"
  },
  "language_info": {
   "codemirror_mode": {
    "name": "ipython",
    "version": 3
   },
   "file_extension": ".py",
   "mimetype": "text/x-python",
   "name": "python",
   "nbconvert_exporter": "python",
   "pygments_lexer": "ipython3",
   "version": "3.10.10"
  },
  "vscode": {
   "interpreter": {
    "hash": "1b268de4794b17546a9e802e5604c0680db9bbfced50d96ff424ba26833f6f2b"
   }
  }
 },
 "nbformat": 4,
 "nbformat_minor": 2
}
