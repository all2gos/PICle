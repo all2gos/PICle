{
 "cells": [
  {
   "cell_type": "code",
   "execution_count": 1,
   "metadata": {},
   "outputs": [],
   "source": [
    "import pandas as pd\n",
    "import numpy as np\n",
    "from itertools import combinations\n",
    "\n",
    "from p0_usable_data import rotations, edges\n",
    "from p1_creating_clusters_db import compute\n",
    "from p2_particle_joining import *\n",
    "from p3_create_database import CuNi_cluster\n"
   ]
  },
  {
   "cell_type": "code",
   "execution_count": 3,
   "metadata": {},
   "outputs": [
    {
     "name": "stdout",
     "output_type": "stream",
     "text": [
      "number of clusters: 192\n",
      "new db is identical as old db: True\n"
     ]
    },
    {
     "ename": "NameError",
     "evalue": "name 'topology' is not defined",
     "output_type": "error",
     "traceback": [
      "\u001b[1;31m---------------------------------------------------------------------------\u001b[0m",
      "\u001b[1;31mNameError\u001b[0m                                 Traceback (most recent call last)",
      "\u001b[1;32mc:\\Users\\stott\\Desktop\\PIClu\\main.ipynb Komórka 2\u001b[0m in \u001b[0;36m<cell line: 1>\u001b[1;34m()\u001b[0m\n\u001b[0;32m      <a href='vscode-notebook-cell:/c%3A/Users/stott/Desktop/PIClu/main.ipynb#W1sZmlsZQ%3D%3D?line=2'>3</a>\u001b[0m clusters \u001b[39m=\u001b[39m []\n\u001b[0;32m      <a href='vscode-notebook-cell:/c%3A/Users/stott/Desktop/PIClu/main.ipynb#W1sZmlsZQ%3D%3D?line=3'>4</a>\u001b[0m \u001b[39mfor\u001b[39;00m cluster \u001b[39min\u001b[39;00m topology_of_clusters:\n\u001b[1;32m----> <a href='vscode-notebook-cell:/c%3A/Users/stott/Desktop/PIClu/main.ipynb#W1sZmlsZQ%3D%3D?line=4'>5</a>\u001b[0m     clusters\u001b[39m.\u001b[39mappend(CuNi_cluster(cluster)\u001b[39m.\u001b[39;49mcreating_db_row())\n\u001b[0;32m      <a href='vscode-notebook-cell:/c%3A/Users/stott/Desktop/PIClu/main.ipynb#W1sZmlsZQ%3D%3D?line=5'>6</a>\u001b[0m \u001b[39mprint\u001b[39m(clusters)\n",
      "File \u001b[1;32mc:\\Users\\stott\\Desktop\\PIClu\\p3_create_database.py:29\u001b[0m, in \u001b[0;36mCuNi_cluster.creating_db_row\u001b[1;34m(self)\u001b[0m\n\u001b[0;32m     27\u001b[0m \u001b[39mdef\u001b[39;00m \u001b[39mcreating_db_row\u001b[39m(\u001b[39mself\u001b[39m):\n\u001b[0;32m     28\u001b[0m     db_row \u001b[39m=\u001b[39m [] \n\u001b[1;32m---> 29\u001b[0m     db_row\u001b[39m.\u001b[39mappend(CuNi_cluster(topology)\u001b[39m.\u001b[39mno_nickel())\n\u001b[0;32m     30\u001b[0m     db_row\u001b[39m.\u001b[39mappend(CuNi_cluster(topology)\u001b[39m.\u001b[39mname())\n\u001b[0;32m     31\u001b[0m     db_row\u001b[39m.\u001b[39mappend(\u001b[39mlen\u001b[39m(CuNi_cluster(topology)\u001b[39m.\u001b[39mcorners()))\n",
      "\u001b[1;31mNameError\u001b[0m: name 'topology' is not defined"
     ]
    }
   ],
   "source": [
    "if __name__ == '__main__':\n",
    "    topology_of_clusters = compute()\n",
    "    clusters = []\n",
    "    for cluster in topology_of_clusters:\n",
    "        clusters.append(CuNi_cluster(cluster).creating_db_row())\n",
    "    print(clusters)\n",
    "\n",
    "\n"
   ]
  },
  {
   "cell_type": "code",
   "execution_count": 4,
   "metadata": {},
   "outputs": [
    {
     "data": {
      "text/plain": [
       "[[1, 0, 5, 'Ni'], [2, 1, 4, 'Cu'], [7, 0, 5, 'Cu']]"
      ]
     },
     "execution_count": 4,
     "metadata": {},
     "output_type": "execute_result"
    }
   ],
   "source": [
    "corners(neighbour_list(clusters[2]))"
   ]
  },
  {
   "cell_type": "code",
   "execution_count": null,
   "metadata": {},
   "outputs": [],
   "source": []
  }
 ],
 "metadata": {
  "kernelspec": {
   "display_name": "Python 3.9.13 ('myenv')",
   "language": "python",
   "name": "python3"
  },
  "language_info": {
   "codemirror_mode": {
    "name": "ipython",
    "version": 3
   },
   "file_extension": ".py",
   "mimetype": "text/x-python",
   "name": "python",
   "nbconvert_exporter": "python",
   "pygments_lexer": "ipython3",
   "version": "3.9.13"
  },
  "orig_nbformat": 4,
  "vscode": {
   "interpreter": {
    "hash": "0d524ba7b83ff8c61d8d73682460bc1ea82d1a1200b7ca0b72eae2b49abe483f"
   }
  }
 },
 "nbformat": 4,
 "nbformat_minor": 2
}
