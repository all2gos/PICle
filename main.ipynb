{
 "cells": [
  {
   "cell_type": "code",
   "execution_count": 1,
   "metadata": {},
   "outputs": [],
   "source": [
    "import pandas as pd\n",
    "import numpy as np\n",
    "from itertools import combinations\n",
    "\n",
    "from p0_usable_data import rotations, edges\n",
    "from p1_creating_clusters_db import compute\n",
    "from p2_particle_joining import *\n"
   ]
  },
  {
   "cell_type": "code",
   "execution_count": 3,
   "metadata": {},
   "outputs": [
    {
     "name": "stdout",
     "output_type": "stream",
     "text": [
      "number of clusters: 192\n",
      "new db is identical as old db: True\n",
      "[[1, 0, 5, 'Ni'], [2, 1, 4, 'Cu'], [3, 1, 4, 'Cu'], [4, 1, 4, 'Cu'], [5, 1, 4, 'Cu'], [6, 1, 4, 'Cu'], [7, 0, 5, 'Cu'], [8, 0, 5, 'Cu'], [9, 0, 5, 'Cu'], [10, 0, 5, 'Cu'], [11, 0, 5, 'Cu'], [12, 0, 5, 'Cu']]\n"
     ]
    }
   ],
   "source": [
    "if __name__ == '__main__':\n",
    "    clusters = compute(0,7)\n",
    "    print(neighbour_list(clusters[2]))\n"
   ]
  },
  {
   "cell_type": "code",
   "execution_count": null,
   "metadata": {},
   "outputs": [],
   "source": []
  }
 ],
 "metadata": {
  "kernelspec": {
   "display_name": "Python 3.9.13 ('myenv')",
   "language": "python",
   "name": "python3"
  },
  "language_info": {
   "codemirror_mode": {
    "name": "ipython",
    "version": 3
   },
   "file_extension": ".py",
   "mimetype": "text/x-python",
   "name": "python",
   "nbconvert_exporter": "python",
   "pygments_lexer": "ipython3",
   "version": "3.9.13"
  },
  "orig_nbformat": 4,
  "vscode": {
   "interpreter": {
    "hash": "0d524ba7b83ff8c61d8d73682460bc1ea82d1a1200b7ca0b72eae2b49abe483f"
   }
  }
 },
 "nbformat": 4,
 "nbformat_minor": 2
}
