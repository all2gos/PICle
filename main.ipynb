{
 "cells": [
  {
   "cell_type": "code",
   "execution_count": 1,
   "metadata": {},
   "outputs": [],
   "source": [
    "import pandas as pd\n",
    "import numpy as np\n",
    "from itertools import combinations\n",
    "\n",
    "from p0_usable_data import rotations, edges\n",
    "from p1_creating_clusters_db import compute\n",
    "from p2_particle_joining import *\n",
    "from p3_cuni_class import CuNi_cluster\n"
   ]
  },
  {
   "cell_type": "code",
   "execution_count": 2,
   "metadata": {},
   "outputs": [
    {
     "name": "stdout",
     "output_type": "stream",
     "text": [
      "number of clusters: 192\n",
      "new db is identical as old db: True\n"
     ]
    }
   ],
   "source": [
    "if __name__ == '__main__':\n",
    "    topology_of_clusters = compute()\n",
    "    clusters = []\n",
    "    for cluster in topology_of_clusters:\n",
    "        clusters.append(CuNi_cluster(cluster).creating_db_row(cluster))\n",
    "clusters_df = pd.DataFrame(data = clusters, columns = ['no_nickel','topology','no_corners_comb','no_edges_comb','all_comb','all_corners_comb','all_edges_comb','c_atom'])\n",
    "clusters_df\n",
    "\n",
    "clusters_df.to_csv('all.csv')\n"
   ]
  },
  {
   "cell_type": "code",
   "execution_count": 3,
   "metadata": {},
   "outputs": [
    {
     "data": {
      "text/html": [
       "<div>\n",
       "<style scoped>\n",
       "    .dataframe tbody tr th:only-of-type {\n",
       "        vertical-align: middle;\n",
       "    }\n",
       "\n",
       "    .dataframe tbody tr th {\n",
       "        vertical-align: top;\n",
       "    }\n",
       "\n",
       "    .dataframe thead th {\n",
       "        text-align: right;\n",
       "    }\n",
       "</style>\n",
       "<table border=\"1\" class=\"dataframe\">\n",
       "  <thead>\n",
       "    <tr style=\"text-align: right;\">\n",
       "      <th></th>\n",
       "      <th>no_nickel</th>\n",
       "      <th>topology</th>\n",
       "      <th>no_corners_comb</th>\n",
       "      <th>no_edges_comb</th>\n",
       "      <th>all_comb</th>\n",
       "      <th>all_corners_comb</th>\n",
       "      <th>all_edges_comb</th>\n",
       "      <th>c_atom</th>\n",
       "    </tr>\n",
       "  </thead>\n",
       "  <tbody>\n",
       "    <tr>\n",
       "      <th>0</th>\n",
       "      <td>0</td>\n",
       "      <td>[Cu, Cu, Cu, Cu, Cu, Cu, Cu, Cu, Cu, Cu, Cu, C...</td>\n",
       "      <td>1</td>\n",
       "      <td>1</td>\n",
       "      <td>11</td>\n",
       "      <td>[[1, 0, 5, Cu]]</td>\n",
       "      <td>[[[1, 0, 5, Cu], [2, 0, 5, Cu]]]</td>\n",
       "      <td>0</td>\n",
       "    </tr>\n",
       "    <tr>\n",
       "      <th>1</th>\n",
       "      <td>1</td>\n",
       "      <td>[Ni, Cu, Cu, Cu, Cu, Cu, Cu, Cu, Cu, Cu, Cu, C...</td>\n",
       "      <td>1</td>\n",
       "      <td>1</td>\n",
       "      <td>11</td>\n",
       "      <td>[[1, 0, 5, Cu]]</td>\n",
       "      <td>[[[1, 0, 5, Cu], [2, 0, 5, Cu]]]</td>\n",
       "      <td>1</td>\n",
       "    </tr>\n",
       "    <tr>\n",
       "      <th>2</th>\n",
       "      <td>1</td>\n",
       "      <td>[Cu, Ni, Cu, Cu, Cu, Cu, Cu, Cu, Cu, Cu, Cu, C...</td>\n",
       "      <td>3</td>\n",
       "      <td>4</td>\n",
       "      <td>35</td>\n",
       "      <td>[[1, 0, 5, Ni], [2, 1, 4, Cu], [7, 0, 5, Cu]]</td>\n",
       "      <td>[[[1, 0, 5, Ni], [2, 1, 4, Cu]], [[2, 1, 4, Cu...</td>\n",
       "      <td>0</td>\n",
       "    </tr>\n",
       "    <tr>\n",
       "      <th>3</th>\n",
       "      <td>2</td>\n",
       "      <td>[Ni, Ni, Cu, Cu, Cu, Cu, Cu, Cu, Cu, Cu, Cu, C...</td>\n",
       "      <td>3</td>\n",
       "      <td>4</td>\n",
       "      <td>35</td>\n",
       "      <td>[[1, 0, 5, Ni], [2, 1, 4, Cu], [7, 0, 5, Cu]]</td>\n",
       "      <td>[[[1, 0, 5, Ni], [2, 1, 4, Cu]], [[2, 1, 4, Cu...</td>\n",
       "      <td>1</td>\n",
       "    </tr>\n",
       "    <tr>\n",
       "      <th>4</th>\n",
       "      <td>2</td>\n",
       "      <td>[Cu, Ni, Ni, Cu, Cu, Cu, Cu, Cu, Cu, Cu, Cu, C...</td>\n",
       "      <td>4</td>\n",
       "      <td>8</td>\n",
       "      <td>52</td>\n",
       "      <td>[[1, 1, 4, Ni], [3, 2, 3, Cu], [4, 1, 4, Cu], ...</td>\n",
       "      <td>[[[1, 1, 4, Ni], [2, 1, 4, Ni]], [[1, 1, 4, Ni...</td>\n",
       "      <td>0</td>\n",
       "    </tr>\n",
       "  </tbody>\n",
       "</table>\n",
       "</div>"
      ],
      "text/plain": [
       "   no_nickel                                           topology  \\\n",
       "0          0  [Cu, Cu, Cu, Cu, Cu, Cu, Cu, Cu, Cu, Cu, Cu, C...   \n",
       "1          1  [Ni, Cu, Cu, Cu, Cu, Cu, Cu, Cu, Cu, Cu, Cu, C...   \n",
       "2          1  [Cu, Ni, Cu, Cu, Cu, Cu, Cu, Cu, Cu, Cu, Cu, C...   \n",
       "3          2  [Ni, Ni, Cu, Cu, Cu, Cu, Cu, Cu, Cu, Cu, Cu, C...   \n",
       "4          2  [Cu, Ni, Ni, Cu, Cu, Cu, Cu, Cu, Cu, Cu, Cu, C...   \n",
       "\n",
       "   no_corners_comb  no_edges_comb  all_comb  \\\n",
       "0                1              1        11   \n",
       "1                1              1        11   \n",
       "2                3              4        35   \n",
       "3                3              4        35   \n",
       "4                4              8        52   \n",
       "\n",
       "                                    all_corners_comb  \\\n",
       "0                                    [[1, 0, 5, Cu]]   \n",
       "1                                    [[1, 0, 5, Cu]]   \n",
       "2      [[1, 0, 5, Ni], [2, 1, 4, Cu], [7, 0, 5, Cu]]   \n",
       "3      [[1, 0, 5, Ni], [2, 1, 4, Cu], [7, 0, 5, Cu]]   \n",
       "4  [[1, 1, 4, Ni], [3, 2, 3, Cu], [4, 1, 4, Cu], ...   \n",
       "\n",
       "                                      all_edges_comb  c_atom  \n",
       "0                   [[[1, 0, 5, Cu], [2, 0, 5, Cu]]]       0  \n",
       "1                   [[[1, 0, 5, Cu], [2, 0, 5, Cu]]]       1  \n",
       "2  [[[1, 0, 5, Ni], [2, 1, 4, Cu]], [[2, 1, 4, Cu...       0  \n",
       "3  [[[1, 0, 5, Ni], [2, 1, 4, Cu]], [[2, 1, 4, Cu...       1  \n",
       "4  [[[1, 1, 4, Ni], [2, 1, 4, Ni]], [[1, 1, 4, Ni...       0  "
      ]
     },
     "execution_count": 3,
     "metadata": {},
     "output_type": "execute_result"
    }
   ],
   "source": [
    "clusters_df.head()"
   ]
  }
 ],
 "metadata": {
  "kernelspec": {
   "display_name": "Python 3.9.13 ('myenv')",
   "language": "python",
   "name": "python3"
  },
  "language_info": {
   "codemirror_mode": {
    "name": "ipython",
    "version": 3
   },
   "file_extension": ".py",
   "mimetype": "text/x-python",
   "name": "python",
   "nbconvert_exporter": "python",
   "pygments_lexer": "ipython3",
   "version": "3.9.13"
  },
  "orig_nbformat": 4,
  "vscode": {
   "interpreter": {
    "hash": "0d524ba7b83ff8c61d8d73682460bc1ea82d1a1200b7ca0b72eae2b49abe483f"
   }
  }
 },
 "nbformat": 4,
 "nbformat_minor": 2
}
