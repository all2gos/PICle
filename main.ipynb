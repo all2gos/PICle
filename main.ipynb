{
 "cells": [
  {
   "cell_type": "code",
   "execution_count": 37,
   "metadata": {},
   "outputs": [],
   "source": [
    "import pandas as pd\n",
    "import numpy as np\n",
    "\n",
    "from p3_cuni_class import *"
   ]
  },
  {
   "cell_type": "code",
   "execution_count": 38,
   "metadata": {},
   "outputs": [
    {
     "name": "stdout",
     "output_type": "stream",
     "text": [
      "number of clusters: 192\n",
      "new db is identical as old db: True\n",
      "['Cu', 'Ni', 'Ni', 'Cu', 'Ni', 'Cu', 'Cu', 'Ni', 'Cu', 'Ni', 'Cu', 'Cu', 'Cu']\n",
      "['Cu', 'Ni', 'Ni', 'Cu', 'Ni', 'Cu', 'Cu', 'Ni', 'Cu', 'Cu', 'Ni', 'Cu', 'Cu']\n",
      "['Cu', 'Ni', 'Ni', 'Cu', 'Ni', 'Cu', 'Cu', 'Cu', 'Ni', 'Ni', 'Cu', 'Cu', 'Cu']\n"
     ]
    }
   ],
   "source": [
    "if __name__ == '__main__':\n",
    "    topology_of_clusters = compute()\n",
    "    clusters = []\n",
    "    for cluster in topology_of_clusters[52:55]:\n",
    "        clusters.append(CuNi_cluster(cluster).creating_db_row(cluster))\n",
    "        print(cluster)\n",
    "    clusters_df = pd.DataFrame(data = clusters, columns = ['no_nickel','topology','no_corners_comb','no_edges_comb','all_comb','all_corners_comb','all_edges_comb','c_atom','mass_center','shortest_paths'])\n",
    "    \n",
    "\n",
    "    clusters_df.to_csv('all.csv')\n"
   ]
  },
  {
   "cell_type": "code",
   "execution_count": null,
   "metadata": {},
   "outputs": [],
   "source": []
  }
 ],
 "metadata": {
  "kernelspec": {
   "display_name": "Python 3.9.13 ('myenv')",
   "language": "python",
   "name": "python3"
  },
  "language_info": {
   "codemirror_mode": {
    "name": "ipython",
    "version": 3
   },
   "file_extension": ".py",
   "mimetype": "text/x-python",
   "name": "python",
   "nbconvert_exporter": "python",
   "pygments_lexer": "ipython3",
   "version": "3.9.13"
  },
  "orig_nbformat": 4,
  "vscode": {
   "interpreter": {
    "hash": "0d524ba7b83ff8c61d8d73682460bc1ea82d1a1200b7ca0b72eae2b49abe483f"
   }
  }
 },
 "nbformat": 4,
 "nbformat_minor": 2
}
